{
 "cells": [
  {
   "attachments": {},
   "cell_type": "markdown",
   "metadata": {},
   "source": [
    "Stimuly -> Simulation -> Plot\n",
    "\n",
    "\n"
   ]
  },
  {
   "cell_type": "code",
   "execution_count": 1,
   "metadata": {},
   "outputs": [
    {
     "ename": "NameError",
     "evalue": "name 'PlotEnergiereserve' is not defined",
     "output_type": "error",
     "traceback": [
      "\u001b[1;31m---------------------------------------------------------------------------\u001b[0m",
      "\u001b[1;31mNameError\u001b[0m                                 Traceback (most recent call last)",
      "Cell \u001b[1;32mIn[1], line 15\u001b[0m\n\u001b[0;32m      8\u001b[0m stimuli \u001b[39m=\u001b[39m StimuliWintertag()\n\u001b[0;32m     10\u001b[0m simulation \u001b[39m=\u001b[39m Simulation(stimuli\u001b[39m=\u001b[39mstimuli)\n\u001b[0;32m     12\u001b[0m simulation\u001b[39m.\u001b[39mplots \u001b[39m=\u001b[39m (\n\u001b[0;32m     13\u001b[0m     \u001b[39m#PlotSpeicher(modell=simulation.modell, speicher=simulation.modell.speichers[13-1]),\u001b[39;00m\n\u001b[0;32m     14\u001b[0m     \u001b[39m#PlotSpeicher(modell=simulation.modell, speicher=simulation.modell.speichers[1-1]),\u001b[39;00m\n\u001b[1;32m---> 15\u001b[0m     PlotEnergiereserve(modell\u001b[39m=\u001b[39msimulation\u001b[39m.\u001b[39mmodell, speicher\u001b[39m=\u001b[39msimulation\u001b[39m.\u001b[39mmodell\u001b[39m.\u001b[39mspeichers[\u001b[39m1\u001b[39m\u001b[39m-\u001b[39m\u001b[39m1\u001b[39m]),\n\u001b[0;32m     16\u001b[0m     PlotSpeicherSchichtung(modell\u001b[39m=\u001b[39msimulation\u001b[39m.\u001b[39mmodell, speicher\u001b[39m=\u001b[39msimulation\u001b[39m.\u001b[39mmodell\u001b[39m.\u001b[39mspeichers[\u001b[39m1\u001b[39m\u001b[39m-\u001b[39m\u001b[39m1\u001b[39m]),\n\u001b[0;32m     17\u001b[0m     \u001b[39m#PlotZentralheizung(zentralheizung=simulation.modell.zentralheizung)\u001b[39;00m\n\u001b[0;32m     18\u001b[0m )\n\u001b[0;32m     20\u001b[0m simulation\u001b[39m.\u001b[39mrun()\n\u001b[0;32m     22\u001b[0m simulation\u001b[39m.\u001b[39mplot()\n",
      "\u001b[1;31mNameError\u001b[0m: name 'PlotEnergiereserve' is not defined"
     ]
    }
   ],
   "source": [
    "%matplotlib inline\n",
    "\n",
    "from util_modell_zentralheizung import PlotZentralheizung\n",
    "from util_simulation import Simulation\n",
    "from util_modell_speicher_dezentral import PlotSpeicher, PlotSpeicherSchichtung, PlotEnergiereserve\n",
    "from util_stimuly import StimuliWintertag\n",
    "\n",
    "stimuli = StimuliWintertag()\n",
    "\n",
    "simulation = Simulation(stimuli=stimuli)\n",
    "\n",
    "simulation.plots = (\n",
    "    #PlotSpeicher(modell=simulation.modell, speicher=simulation.modell.speichers[13-1]),\n",
    "    #PlotSpeicher(modell=simulation.modell, speicher=simulation.modell.speichers[1-1]),\n",
    "    PlotEnergiereserve(modell=simulation.modell, speicher=simulation.modell.speichers[1-1]),\n",
    "    PlotSpeicherSchichtung(modell=simulation.modell, speicher=simulation.modell.speichers[1-1]),\n",
    "    #PlotZentralheizung(zentralheizung=simulation.modell.zentralheizung)\n",
    ")\n",
    "\n",
    "simulation.run()\n",
    "\n",
    "simulation.plot()"
   ]
  }
 ],
 "metadata": {
  "kernelspec": {
   "display_name": "Python 3",
   "language": "python",
   "name": "python3"
  },
  "language_info": {
   "codemirror_mode": {
    "name": "ipython",
    "version": 3
   },
   "file_extension": ".py",
   "mimetype": "text/x-python",
   "name": "python",
   "nbconvert_exporter": "python",
   "pygments_lexer": "ipython3",
   "version": "3.9.7"
  },
  "orig_nbformat": 4
 },
 "nbformat": 4,
 "nbformat_minor": 2
}
