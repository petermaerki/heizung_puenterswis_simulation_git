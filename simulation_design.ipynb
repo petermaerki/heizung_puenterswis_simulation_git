{
 "cells": [
  {
   "attachments": {},
   "cell_type": "markdown",
   "metadata": {},
   "source": [
    "Stimuly -> Simulation -> Plot\n",
    "\n",
    "\n"
   ]
  },
  {
   "cell_type": "code",
   "execution_count": null,
   "metadata": {
    "tags": [
     "parameters"
    ]
   },
   "outputs": [],
   "source": [
    "\n",
    "# Alle diese parameter werden durch papermill überschrieben\n",
    "stimuli_label = \"sommertag\"\n"
   ]
  },
  {
   "cell_type": "code",
   "execution_count": null,
   "metadata": {},
   "outputs": [],
   "source": [
    "# %matplotlib inline\n",
    "%matplotlib widget\n",
    "\n",
    "from util_modell_zentralheizung import PlotZentralheizung\n",
    "from util_modell_speichers import PlotSpeichersAnforderungen\n",
    "from util_simulation import Simulation\n",
    "from util_modell_speicher_dezentral import PlotSpeicher, PlotSpeicherSchichtung, PlotEnergiereserve\n",
    "from util_stimuli import get_stimuli\n",
    "\n",
    "stimuli = get_stimuli(stimuli_label)\n",
    "simulation = Simulation(stimuli=stimuli)\n",
    "\n",
    "haus_normal = simulation.modell.speichers.get_speicher(\"haus01_normal\")\n",
    "haus_ferien = simulation.modell.speichers.get_speicher(\"haus02_ferien\")\n",
    "haus_grossfamilie = simulation.modell.speichers.get_speicher(\"haus03_grossfamilie\")\n",
    "\n",
    "simulation.plots = (\n",
    "    PlotEnergiereserve(modell=simulation.modell, speicher=haus_normal),\n",
    "    # PlotSpeicherSchichtung(modell=simulation.modell, speicher=haus_normal),\n",
    "    # PlotEnergiereserve(modell=simulation.modell, speicher=haus_ferien),\n",
    "    # PlotSpeicherSchichtung(modell=simulation.modell, speicher=haus_ferien),\n",
    "    # PlotEnergiereserve(modell=simulation.modell, speicher=haus_grossfamilie),\n",
    "    # PlotSpeicherSchichtung(modell=simulation.modell, speicher=haus_grossfamilie),\n",
    "    # PlotZentralheizung(zentralheizung=simulation.modell.zentralheizung),\n",
    "    # PlotSpeichersAnforderungen(speichers=simulation.modell.speichers),\n",
    ")\n",
    "\n",
    "simulation.run()\n",
    "simulation.plot(directory=None)"
   ]
  },
  {
   "cell_type": "code",
   "execution_count": null,
   "metadata": {},
   "outputs": [],
   "source": []
  }
 ],
 "metadata": {
  "kernelspec": {
   "display_name": "Python 3",
   "language": "python",
   "name": "python3"
  },
  "language_info": {
   "codemirror_mode": {
    "name": "ipython",
    "version": 3
   },
   "file_extension": ".py",
   "mimetype": "text/x-python",
   "name": "python",
   "nbconvert_exporter": "python",
   "pygments_lexer": "ipython3",
   "version": "3.10.4"
  },
  "orig_nbformat": 4
 },
 "nbformat": 4,
 "nbformat_minor": 2
}
