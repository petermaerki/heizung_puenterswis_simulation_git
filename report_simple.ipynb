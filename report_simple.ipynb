{
 "cells": [
  {
   "attachments": {},
   "cell_type": "markdown",
   "metadata": {},
   "source": [
    "Stimuly -> Simulation -> Plot\n",
    "\n",
    "\n"
   ]
  },
  {
   "cell_type": "code",
   "execution_count": 1,
   "metadata": {
    "tags": [
     "parameters"
    ]
   },
   "outputs": [],
   "source": [
    "\n",
    "# Alle diese parameter werden durch papermill überschrieben\n",
    "stimuli_label = \"sommertag\"\n",
    "variante_label = \"ww_ladung_65C_1.1h\"\n"
   ]
  },
  {
   "cell_type": "code",
   "execution_count": 3,
   "metadata": {},
   "outputs": [
    {
     "name": "stderr",
     "output_type": "stream",
     "text": [
      "util_simulation.py:44 run() INFO Simulation sommertag: run 12.4s\n",
      "util_simulation.py:57 plot() INFO Simulation sommertag: plot 0.4s\n"
     ]
    }
   ],
   "source": [
    "%matplotlib widget\n",
    "\n",
    "from util_simulation import Simulation\n",
    "from util_modell_speicher_dezentral import PlotEnergiereserve\n",
    "from util_stimuli import get_stimuli\n",
    "from util_varianten import VARIANTEN\n",
    "\n",
    "stimuli = get_stimuli(stimuli_label)\n",
    "variante = VARIANTEN.get_by_label(variante_label)\n",
    "simulation = Simulation(stimuli=stimuli, variante=variante)\n",
    "\n",
    "haus_grossfamilie = simulation.modell.speichers.get_speicher(\"haus03_grossfamilie\")\n",
    "\n",
    "simulation.plots = (\n",
    "    PlotEnergiereserve(modell=simulation.modell, speicher=haus_grossfamilie),\n",
    ")\n",
    "\n",
    "simulation.run()\n",
    "simulation.plot()"
   ]
  }
 ],
 "metadata": {
  "kernelspec": {
   "display_name": "Python 3",
   "language": "python",
   "name": "python3"
  },
  "language_info": {
   "codemirror_mode": {
    "name": "ipython",
    "version": 3
   },
   "file_extension": ".py",
   "mimetype": "text/x-python",
   "name": "python",
   "nbconvert_exporter": "python",
   "pygments_lexer": "ipython3",
   "version": "3.10.4"
  },
  "orig_nbformat": 4
 },
 "nbformat": 4,
 "nbformat_minor": 2
}
